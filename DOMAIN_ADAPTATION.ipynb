{
  "nbformat": 4,
  "nbformat_minor": 0,
  "metadata": {
    "colab": {
      "provenance": [],
      "authorship_tag": "ABX9TyO7ahgb/CPkDCR5Sf5Q2ErG",
      "include_colab_link": true
    },
    "kernelspec": {
      "name": "python3",
      "display_name": "Python 3"
    },
    "language_info": {
      "name": "python"
    }
  },
  "cells": [
    {
      "cell_type": "markdown",
      "metadata": {
        "id": "view-in-github",
        "colab_type": "text"
      },
      "source": [
        "<a href=\"https://colab.research.google.com/github/Gavriel55555/domain_adaptation/blob/main/DOMAIN_ADAPTATION.ipynb\" target=\"_parent\"><img src=\"https://colab.research.google.com/assets/colab-badge.svg\" alt=\"Open In Colab\"/></a>"
      ]
    },
    {
      "cell_type": "code",
      "execution_count": 1,
      "metadata": {
        "id": "yE3JmmHgdb9F"
      },
      "outputs": [],
      "source": [
        "import numpy as np\n",
        "import torch\n",
        "from torchvision import datasets, transforms\n",
        "import os\n",
        "import matplotlib.pyplot as plt\n",
        "\n",
        "import torchvision\n",
        "import torchvision.transforms as transforms\n",
        "from  torchvision.datasets import ImageFolder\n",
        "import torch.nn as nn\n",
        "from torch import optim\n",
        "from torch.utils.data import random_split ,DataLoader\n",
        "from torch.autograd import Function"
      ]
    },
    {
      "cell_type": "markdown",
      "source": [
        "We will use GPU for running time improvement:"
      ],
      "metadata": {
        "id": "fNtq-SljRENO"
      }
    },
    {
      "cell_type": "code",
      "source": [
        "device = torch.device('cuda' if torch.cuda.is_available else 'cpu')\n",
        "print(device)"
      ],
      "metadata": {
        "colab": {
          "base_uri": "https://localhost:8080/"
        },
        "id": "BDTa6aTsRHFY",
        "outputId": "e3b074fb-9c58-4fb8-c371-7c52497ee64c"
      },
      "execution_count": 2,
      "outputs": [
        {
          "output_type": "stream",
          "name": "stdout",
          "text": [
            "cuda\n"
          ]
        }
      ]
    },
    {
      "cell_type": "code",
      "source": [
        "from google.colab import drive\n",
        "drive.mount('/content/gdrive')"
      ],
      "metadata": {
        "id": "OTf6UrRbqzcn",
        "colab": {
          "base_uri": "https://localhost:8080/"
        },
        "outputId": "39004b51-e901-4957-d1db-8819ab0f1f0f"
      },
      "execution_count": 3,
      "outputs": [
        {
          "output_type": "stream",
          "name": "stdout",
          "text": [
            "Mounted at /content/gdrive\n"
          ]
        }
      ]
    },
    {
      "cell_type": "code",
      "source": [
        "\n",
        "# Define data transformations\n",
        "transform = transforms.Compose([\n",
        "    transforms.ToTensor(),  # Convert PIL image to PyTorch tensor\n",
        "    transforms.Normalize((0.5,), (0.5,))  # Normalize the pixel values to range [-1, 1]\n",
        "])\n",
        "\n",
        "# Load MNIST train and test datasets\n",
        "mnist_train = datasets.MNIST(root='./data', train=True, download=True, transform=transform)\n",
        "mnist_test = datasets.MNIST(root='./data', train=False, download=True, transform=transform)\n",
        "\n",
        "# Create data loaders\n",
        "batch_size = 64\n",
        "train_loader_mnist = torch.utils.data.DataLoader(mnist_train, batch_size=batch_size, shuffle=True)\n",
        "test_loader = torch.utils.data.DataLoader(mnist_test, batch_size=batch_size, shuffle=False)"
      ],
      "metadata": {
        "id": "dvlP4U9mql9b",
        "colab": {
          "base_uri": "https://localhost:8080/"
        },
        "outputId": "85d1f53f-c534-4a91-af38-d0bc2eadcde0"
      },
      "execution_count": 4,
      "outputs": [
        {
          "output_type": "stream",
          "name": "stdout",
          "text": [
            "Downloading http://yann.lecun.com/exdb/mnist/train-images-idx3-ubyte.gz\n",
            "Downloading http://yann.lecun.com/exdb/mnist/train-images-idx3-ubyte.gz to ./data/MNIST/raw/train-images-idx3-ubyte.gz\n"
          ]
        },
        {
          "output_type": "stream",
          "name": "stderr",
          "text": [
            "100%|██████████| 9912422/9912422 [00:00<00:00, 84259604.81it/s]\n"
          ]
        },
        {
          "output_type": "stream",
          "name": "stdout",
          "text": [
            "Extracting ./data/MNIST/raw/train-images-idx3-ubyte.gz to ./data/MNIST/raw\n",
            "\n",
            "Downloading http://yann.lecun.com/exdb/mnist/train-labels-idx1-ubyte.gz\n",
            "Downloading http://yann.lecun.com/exdb/mnist/train-labels-idx1-ubyte.gz to ./data/MNIST/raw/train-labels-idx1-ubyte.gz\n"
          ]
        },
        {
          "output_type": "stream",
          "name": "stderr",
          "text": [
            "100%|██████████| 28881/28881 [00:00<00:00, 14636985.72it/s]\n"
          ]
        },
        {
          "output_type": "stream",
          "name": "stdout",
          "text": [
            "Extracting ./data/MNIST/raw/train-labels-idx1-ubyte.gz to ./data/MNIST/raw\n",
            "\n",
            "Downloading http://yann.lecun.com/exdb/mnist/t10k-images-idx3-ubyte.gz\n",
            "Downloading http://yann.lecun.com/exdb/mnist/t10k-images-idx3-ubyte.gz to ./data/MNIST/raw/t10k-images-idx3-ubyte.gz\n"
          ]
        },
        {
          "output_type": "stream",
          "name": "stderr",
          "text": [
            "100%|██████████| 1648877/1648877 [00:00<00:00, 29889366.97it/s]\n"
          ]
        },
        {
          "output_type": "stream",
          "name": "stdout",
          "text": [
            "Extracting ./data/MNIST/raw/t10k-images-idx3-ubyte.gz to ./data/MNIST/raw\n",
            "\n",
            "Downloading http://yann.lecun.com/exdb/mnist/t10k-labels-idx1-ubyte.gz\n",
            "Downloading http://yann.lecun.com/exdb/mnist/t10k-labels-idx1-ubyte.gz to ./data/MNIST/raw/t10k-labels-idx1-ubyte.gz\n"
          ]
        },
        {
          "output_type": "stream",
          "name": "stderr",
          "text": [
            "100%|██████████| 4542/4542 [00:00<00:00, 21821911.53it/s]\n"
          ]
        },
        {
          "output_type": "stream",
          "name": "stdout",
          "text": [
            "Extracting ./data/MNIST/raw/t10k-labels-idx1-ubyte.gz to ./data/MNIST/raw\n",
            "\n"
          ]
        }
      ]
    },
    {
      "cell_type": "code",
      "source": [
        "data_iterator = iter(train_loader_mnist)\n",
        "first_batch = next(data_iterator)\n",
        "input,label=first_batch\n",
        "plt.imshow(input[0,0])"
      ],
      "metadata": {
        "colab": {
          "base_uri": "https://localhost:8080/",
          "height": 447
        },
        "id": "Cq_jDxuYhvhl",
        "outputId": "15055eb0-cb93-4c06-83af-428e9de9fb63"
      },
      "execution_count": 33,
      "outputs": [
        {
          "output_type": "execute_result",
          "data": {
            "text/plain": [
              "<matplotlib.image.AxesImage at 0x7a77a2112560>"
            ]
          },
          "metadata": {},
          "execution_count": 33
        },
        {
          "output_type": "display_data",
          "data": {
            "text/plain": [
              "<Figure size 640x480 with 1 Axes>"
            ],
            "image/png": "[encoded data removed]"
          },
          "metadata": {}
        }
      ]
    },
    {
      "cell_type": "markdown",
      "source": [
        "# **mnist-m**"
      ],
      "metadata": {
        "id": "0yoM4lNFyLpO"
      }
    },
    {
      "cell_type": "markdown",
      "source": [
        "\n",
        "We uploaded the data to Google Colab. Then, mounted Google Drive from our Google Colab notebook:"
      ],
      "metadata": {
        "id": "bdAKhAr1RSea"
      }
    },
    {
      "cell_type": "markdown",
      "source": [
        "first lets plot the data"
      ],
      "metadata": {
        "id": "zch3PRU-yVnP"
      }
    },
    {
      "cell_type": "code",
      "source": [
        "pic=os.listdir(('/content/gdrive/My Drive/Colab Notebooks/mnist-m/mnistm/'))"
      ],
      "metadata": {
        "id": "miyk3oUgxzky"
      },
      "execution_count": 6,
      "outputs": []
    },
    {
      "cell_type": "code",
      "source": [
        "for i in range(6):\n",
        "  plt.subplot(1,6, i+1)\n",
        "  image = plt.imread('/content/gdrive/My Drive/Colab Notebooks/mnist-m/mnistm/'+pic[i])\n",
        "  plt.imshow(image)"
      ],
      "metadata": {
        "colab": {
          "base_uri": "https://localhost:8080/",
          "height": 135
        },
        "id": "kzS2vrxuSIPd",
        "outputId": "662e416b-7dc3-4081-fad1-789be4737d19"
      },
      "execution_count": 7,
      "outputs": [
        {
          "output_type": "display_data",
          "data": {
            "text/plain": [
              "<Figure size 640x480 with 6 Axes>"
            ],
            "image/png": "[encoded data removed]"
          },
          "metadata": {}
        }
      ]
    },
    {
      "cell_type": "markdown",
      "source": [
        "lets see the shape of the image"
      ],
      "metadata": {
        "id": "Rpa0Y_kFWKX9"
      }
    },
    {
      "cell_type": "code",
      "source": [
        "image.shape"
      ],
      "metadata": {
        "colab": {
          "base_uri": "https://localhost:8080/"
        },
        "id": "opD6n7kDSc6G",
        "outputId": "09cf90fc-e210-4eee-e7fc-346398550101"
      },
      "execution_count": 8,
      "outputs": [
        {
          "output_type": "execute_result",
          "data": {
            "text/plain": [
              "(28, 28, 3)"
            ]
          },
          "metadata": {},
          "execution_count": 8
        }
      ]
    },
    {
      "cell_type": "markdown",
      "source": [
        "as we can see the image shape is (28,28,3) insted if (3,28,28)"
      ],
      "metadata": {
        "id": "nUC59oOFWNbn"
      }
    },
    {
      "cell_type": "code",
      "source": [
        "image.shape"
      ],
      "metadata": {
        "colab": {
          "base_uri": "https://localhost:8080/"
        },
        "id": "IsJRa6of_AjE",
        "outputId": "a52745d4-657e-4274-cb8c-a13800398f7d"
      },
      "execution_count": 11,
      "outputs": [
        {
          "output_type": "execute_result",
          "data": {
            "text/plain": [
              "(28, 28, 3)"
            ]
          },
          "metadata": {},
          "execution_count": 11
        }
      ]
    },
    {
      "cell_type": "code",
      "source": [
        "\n",
        "transform_train = transforms.Compose([\n",
        "    transforms.RandomHorizontalFlip(),       #Fliping the images horizontal\n",
        "    transforms.ToTensor(),                   #Convert to tensor\n",
        "    transforms.Normalize((0.5, 0.5, 0.5), (0.5, 0.5, 0.5)) #Normalize\n",
        "])\n",
        "data = ImageFolder('/content/gdrive/My Drive/Colab Notebooks/mnist-m/',\n",
        "                                  transform = transform_train) #Loading train dataset with trasform\n",
        "\n"
      ],
      "metadata": {
        "id": "cNeDuUhgWEqi"
      },
      "execution_count": 9,
      "outputs": []
    },
    {
      "cell_type": "code",
      "source": [],
      "metadata": {
        "colab": {
          "base_uri": "https://localhost:8080/",
          "height": 35
        },
        "id": "F__bJutN_J5v",
        "outputId": "856f939c-3b61-4d78-fe00-cf6f8e0791d1"
      },
      "execution_count": 17,
      "outputs": [
        {
          "output_type": "execute_result",
          "data": {
            "text/plain": [
              "'/content/gdrive/My Drive/Colab Notebooks/mnist-m/mnistm/0.jpg'"
            ],
            "application/vnd.google.colaboratory.intrinsic+json": {
              "type": "string"
            }
          },
          "metadata": {},
          "execution_count": 17
        }
      ]
    },
    {
      "cell_type": "code",
      "source": [
        "train_size = int(0.9 * len(data))\n",
        "test_size = len(data) - train_size\n",
        "batch_size=64\n",
        "# Split the dataset into train and test sets\n",
        "train_dataset, test_dataset = random_split(data, [train_size, test_size])\n",
        "\n",
        "# Create DataLoaders for train and test sets\n",
        "train_loader_mnist_m = DataLoader(train_dataset, batch_size=64, shuffle=True)\n",
        "test_loader = DataLoader(test_dataset, batch_size=64, shuffle=False)"
      ],
      "metadata": {
        "id": "pN6dP6GryjUi"
      },
      "execution_count": 18,
      "outputs": []
    },
    {
      "cell_type": "code",
      "source": [
        "data_iterator = iter(train_loader_mnist_m)\n",
        "first_batch = next(data_iterator)\n",
        "input,label=first_batch\n",
        "print(input.shape,label)\n",
        "plt.imshow(input[0,0])"
      ],
      "metadata": {
        "colab": {
          "base_uri": "https://localhost:8080/",
          "height": 499
        },
        "id": "yE1vGZMniTSo",
        "outputId": "46048df7-694e-4518-d925-12ac145422bd"
      },
      "execution_count": 75,
      "outputs": [
        {
          "output_type": "stream",
          "name": "stdout",
          "text": [
            "torch.Size([64, 3, 28, 28]) tensor([0, 0, 0, 0, 0, 0, 0, 0, 0, 0, 0, 0, 0, 0, 0, 0, 0, 0, 0, 0, 0, 0, 0, 0,\n",
            "        0, 0, 0, 0, 0, 0, 0, 0, 0, 0, 0, 0, 0, 0, 0, 0, 0, 0, 0, 0, 0, 0, 0, 0,\n",
            "        0, 0, 0, 0, 0, 0, 0, 0, 0, 0, 0, 0, 0, 0, 0, 0])\n"
          ]
        },
        {
          "output_type": "execute_result",
          "data": {
            "text/plain": [
              "<matplotlib.image.AxesImage at 0x7a77bbdffa30>"
            ]
          },
          "metadata": {},
          "execution_count": 75
        },
        {
          "output_type": "display_data",
          "data": {
            "text/plain": [
              "<Figure size 640x480 with 1 Axes>"
            ],
            "image/png": "[encoded data removed]"
          },
          "metadata": {}
        }
      ]
    },
    {
      "cell_type": "code",
      "source": [
        "data_iterator = iter(train_loader_mnist)\n",
        "first_batch = next(data_iterator)\n",
        "input,label=first_batch\n",
        "print(input.shape)\n",
        "plt.imshow(input[0,0])"
      ],
      "metadata": {
        "colab": {
          "base_uri": "https://localhost:8080/",
          "height": 465
        },
        "id": "j7umHAlHFd-1",
        "outputId": "cf9b1165-58e2-4c35-a52b-317253f6256f"
      },
      "execution_count": 21,
      "outputs": [
        {
          "output_type": "stream",
          "name": "stdout",
          "text": [
            "torch.Size([64, 1, 28, 28])\n"
          ]
        },
        {
          "output_type": "execute_result",
          "data": {
            "text/plain": [
              "<matplotlib.image.AxesImage at 0x7a77a213c1c0>"
            ]
          },
          "metadata": {},
          "execution_count": 21
        },
        {
          "output_type": "display_data",
          "data": {
            "text/plain": [
              "<Figure size 640x480 with 1 Axes>"
            ],
            "image/png": "[encoded data removed]"
          },
          "metadata": {}
        }
      ]
    },
    {
      "cell_type": "code",
      "source": [
        "class GradientReverse(Function):\n",
        "    @staticmethod\n",
        "    def forward(ctx, x, alpha):\n",
        "        ctx.alpha = alpha\n",
        "        return x\n",
        "\n",
        "    @staticmethod\n",
        "    def backward(ctx, grad_output):\n",
        "        output = -ctx.alpha * grad_output\n",
        "        return output, None\n"
      ],
      "metadata": {
        "id": "Dgix5jkI1J1P"
      },
      "execution_count": 35,
      "outputs": []
    },
    {
      "cell_type": "code",
      "source": [
        "class NN(nn.Module):\n",
        "  def __init__(self):\n",
        "    super(NN,self).__init__()\n",
        "    self.conv1 = nn.Conv2d(in_channels=3, out_channels=30, kernel_size=3, padding=1,stride=1)#((28+2p-f)/s+1=27\n",
        "    self.bn1 = nn.BatchNorm2d(30)\n",
        "    self.relu1=nn.ReLU()\n",
        "    self.max_pool1= nn.MaxPool2d(kernel_size=2, stride=2)#14\n",
        "    self.conv2 = nn.Conv2d(in_channels=30, out_channels=90, kernel_size=3, padding=1,stride=1)#13\n",
        "    self.bn2 = nn.BatchNorm2d(90)\n",
        "    self.relu2=nn.ReLU()\n",
        "    self.max_pool2= nn.MaxPool2d(kernel_size=2, stride=2)#7\n",
        "\n",
        "    x=7*7*90\n",
        "    self.fc1 = nn.Linear(90 * 7 * 7, 128)\n",
        "    self.relu3 = nn.ReLU()\n",
        "    self.fc2 = nn.Linear(128, 10)\n",
        "\n",
        "    #for the domain classifer:\n",
        "    x=7*7*90\n",
        "    self.fc3 = nn.Linear(90 * 7 * 7, 128)\n",
        "    self.relu4 = nn.ReLU()\n",
        "    self.fc4 = nn.Linear(128, 2)\n",
        "  def forward(self, x, grl_lambda=1.0):\n",
        "        x = x.expand(x.data.shape[0], 3, 28, 28)\n",
        "        x = self.conv1(x)\n",
        "        x = self.bn1(x)\n",
        "        x = self.relu1(x)\n",
        "        x = self.max_pool1(x)\n",
        "\n",
        "        x = self.conv2(x)\n",
        "        x = self.bn2(x)\n",
        "        x = self.relu2(x)\n",
        "        x = self.max_pool2(x)\n",
        "\n",
        "        # Flatten the output for the fully connected layers\n",
        "        x = x.view(x.size(0), -1)\n",
        "\n",
        "        # Apply gradient reversal\n",
        "        feat_domain = GradientReverse.apply(x, grl_lambda)\n",
        "\n",
        "        x = self.fc1(x)\n",
        "        x = self.relu3(x)\n",
        "        x = self.fc2(x)\n",
        "\n",
        "        # Domain classifier part\n",
        "        feat_domain = self.fc3(feat_domain)\n",
        "        feat_domain = self.relu4(feat_domain)\n",
        "        feat_domain = self.fc4(feat_domain)\n",
        "\n",
        "        return x, feat_domain\n",
        "\n"
      ],
      "metadata": {
        "id": "PI5DZzEvkylc"
      },
      "execution_count": 36,
      "outputs": []
    },
    {
      "cell_type": "code",
      "source": [
        "model=NN()\n",
        "\n",
        "criterion_label = nn.CrossEntropyLoss()\n",
        "criterion_domain = nn.CrossEntropyLoss()\n",
        "lr=0.001\n",
        "optimizer = optim.Adam(model.parameters(), lr=lr)\n",
        "num_epoch=6\n",
        "max_batch=min(len(train_loader_mnist),len(train_loader_mnist_m))"
      ],
      "metadata": {
        "id": "mC62I6Ni6bXR"
      },
      "execution_count": 106,
      "outputs": []
    },
    {
      "cell_type": "code",
      "source": [
        "def train_dann(model, source_loader, target_loader, num_epochs, lr):\n",
        "\n",
        "    for epoch in range(num_epochs):\n",
        "        for source_data, target_data in zip(source_loader, target_loader):\n",
        "            # Source data\n",
        "            source_inputs, source_labels = source_data\n",
        "            source_domain_labels = torch.zeros(source_inputs.size(0))  # 0 for source domain\n",
        "\n",
        "            # Target data\n",
        "            target_inputs, _ = target_data\n",
        "            target_domain_labels = torch.ones(target_inputs.size(0))  # 1 for target domain\n",
        "\n",
        "            # Concatenate source and target data\n",
        "            inputs = torch.cat((source_inputs, target_inputs), dim=0)\n",
        "            domain_labels = torch.cat((source_domain_labels, target_domain_labels), dim=0)\n",
        "\n",
        "            # Forward pass\n",
        "            label_output, domain_output = model(inputs)\n",
        "\n",
        "            # Calculate losses\n",
        "            label_loss = criterion_label(label_output[:len(source_inputs)], source_labels)\n",
        "            domain_loss = criterion_domain(domain_output, domain_labels.unsqueeze(1))\n",
        "\n",
        "            # Gradient reversal for domain loss\n",
        "            gradient_reversal = gratiantreverse.apply(domain_output, 1.0)\n",
        "\n",
        "            # Total loss (trade-off parameter lambda should be adjusted)\n",
        "            total_loss = label_loss + 0.1 * domain_loss\n",
        "\n",
        "            # Backpropagation\n",
        "            optimizer.zero_grad()\n",
        "            total_loss.backward()\n",
        "            optimizer.step()\n",
        "\n",
        "        # Print training loss\n",
        "        print(f'Epoch [{epoch+1}/{num_epochs}] Total Loss: {total_loss.item():.4f}')"
      ],
      "metadata": {
        "id": "YGdJAW20-Cwc"
      },
      "execution_count": 107,
      "outputs": []
    },
    {
      "cell_type": "code",
      "source": [
        "for epoch in range(num_epoch):\n",
        "  data_iterator_mnist = iter(train_loader_mnist)\n",
        "  data_iterator_mnist_m = iter(train_loader_mnist_m)\n",
        "  for batch in range(max_batch):\n",
        "      optimizer.zero_grad()\n",
        "      p=float(batch+epoch*max_batch)/num_epoch*max_batch\n",
        "      if p == 0:\n",
        "        lamda = 0  # Set lamda to a default value when p is zero\n",
        "      else:\n",
        "        lamda = 2. / (1. + np.exp(-10 * p)) - 1\n",
        "      #print(lamda)\n",
        "      # source domain train mnist:\n",
        "      x_s,y_s=next(data_iterator_mnist)\n",
        "      #x_s, y_s = x_s.to(device), y_s.to(device)\n",
        "      y_s_domain=torch.zeros(batch_size,dtype=torch.long)\n",
        "      #print(y_s_domain.shape)\n",
        "\n",
        "      x_class,y_domain=model(x_s , lamda)\n",
        "      #print(y_domain)\n",
        "      loss_label=criterion_label(x_class,y_s)\n",
        "      loss_domain=criterion_domain(y_domain,y_s_domain)\n",
        "\n",
        "      #traget train mnist_m\n",
        "      x_t,_=next(data_iterator_mnist)\n",
        "      x_t= x_s#.to(device)\n",
        "      y_t_domain=torch.ones(batch_size,dtype=torch.long)\n",
        "\n",
        "      _,y_t_domain=model(x_t,lamda)\n",
        "      #loss_label=criterion_label(x_class,y_s)\n",
        "      loss_t_domain=criterion_domain(y_t_domain,y_t_domain)\n",
        "\n",
        "      # optim\n",
        "      loss_total=loss_t_domain+loss_domain+loss_label\n",
        "      loss_total.backward()\n",
        "      optimizer.step()\n",
        "  print(f'Epoch [{epoch+1}/{num_epoch}] Total Loss: {loss_total.item():.4f}')"
      ],
      "metadata": {
        "colab": {
          "base_uri": "https://localhost:8080/"
        },
        "id": "NpThP8k6HPoR",
        "outputId": "3b582053-82b7-4d4d-ef70-5e4f86f9eca1"
      },
      "execution_count": 108,
      "outputs": [
        {
          "output_type": "stream",
          "name": "stdout",
          "text": [
            "Epoch [1/6] Total Loss: -785536.3125\n",
            "Epoch [2/6] Total Loss: -2713.3975\n",
            "Epoch [3/6] Total Loss: -2845.7915\n",
            "Epoch [4/6] Total Loss: -2454.8464\n",
            "Epoch [5/6] Total Loss: -1310.2075\n",
            "Epoch [6/6] Total Loss: -1433.1984\n"
          ]
        }
      ]
    },
    {
      "cell_type": "code",
      "source": [
        "#for x,t in test_loader:\n",
        "val_losses = []\n",
        "val_accuracies =[]\n",
        "model.eval()  # Set the model to evaluation mode\n",
        "val_loss = 0.0\n",
        "correct = 0\n",
        "total = 0\n",
        "\n",
        "with torch.no_grad():\n",
        "    for val_batch_data, val_batch_targets in test_loader:\n",
        "        val_outputs, _ = model(val_batch_data, lamda)\n",
        "        val_loss += criterion_label(val_outputs, val_batch_targets).item()\n",
        "        _, predicted = torch.max(val_outputs, 1)\n",
        "        print(val_batch_targets.shape ,predicted)\n",
        "        total += val_batch_targets.size(0)\n",
        "        correct += (predicted == val_batch_targets).sum().item()\n",
        "\n",
        "val_accuracy = 100 * correct / total\n",
        "val_losses.append(val_loss / len(test_loader))\n",
        "val_accuracies.append(val_accuracy)\n",
        "\n",
        "print(f\", Validation Loss: {val_losses[-1]:.4f}, Validation Accuracy: {val_accuracies[-1]:.2f}%\")\n"
      ],
      "metadata": {
        "id": "m425abE7DzLy",
        "colab": {
          "base_uri": "https://localhost:8080/"
        },
        "outputId": "d8081781-1a0a-4698-ab5e-4c88db73c6c6"
      },
      "execution_count": 109,
      "outputs": [
        {
          "output_type": "stream",
          "name": "stdout",
          "text": [
            "torch.Size([64]) tensor([2, 2, 6, 2, 2, 2, 2, 5, 2, 2, 2, 5, 2, 2, 2, 2, 2, 2, 4, 2, 5, 2, 2, 5,\n",
            "        2, 5, 2, 2, 3, 5, 2, 5, 2, 2, 6, 2, 2, 5, 2, 5, 2, 2, 2, 2, 2, 2, 2, 5,\n",
            "        5, 2, 2, 5, 2, 2, 4, 2, 5, 2, 2, 2, 5, 2, 5, 2])\n",
            "torch.Size([64]) tensor([6, 2, 2, 2, 2, 2, 5, 5, 2, 5, 2, 2, 2, 2, 2, 2, 5, 2, 2, 2, 2, 5, 5, 2,\n",
            "        2, 2, 2, 2, 2, 2, 5, 5, 2, 2, 2, 2, 2, 5, 2, 2, 2, 5, 2, 2, 5, 2, 6, 5,\n",
            "        6, 2, 2, 2, 2, 2, 2, 2, 2, 2, 2, 5, 5, 2, 2, 3])\n",
            "torch.Size([64]) tensor([5, 2, 2, 2, 5, 5, 5, 2, 2, 5, 2, 2, 2, 5, 2, 2, 2, 2, 2, 2, 2, 6, 5, 2,\n",
            "        5, 2, 4, 2, 2, 2, 2, 6, 2, 2, 2, 6, 2, 3, 2, 2, 2, 2, 2, 2, 2, 2, 2, 2,\n",
            "        2, 5, 2, 2, 5, 2, 5, 2, 2, 2, 2, 2, 2, 2, 2, 2])\n",
            "torch.Size([64]) tensor([2, 2, 2, 2, 2, 5, 5, 5, 2, 2, 5, 2, 4, 2, 2, 5, 2, 2, 2, 2, 2, 4, 2, 2,\n",
            "        5, 5, 2, 2, 6, 2, 2, 5, 8, 5, 2, 2, 2, 2, 2, 2, 2, 5, 2, 2, 5, 5, 2, 2,\n",
            "        2, 2, 5, 2, 2, 5, 0, 5, 5, 2, 2, 2, 5, 2, 2, 8])\n",
            "torch.Size([64]) tensor([2, 2, 5, 2, 2, 2, 4, 2, 2, 2, 2, 2, 6, 2, 2, 8, 5, 8, 2, 2, 2, 5, 5, 5,\n",
            "        5, 2, 2, 5, 2, 5, 8, 2, 5, 2, 2, 3, 5, 2, 5, 5, 2, 5, 2, 2, 2, 5, 5, 2,\n",
            "        5, 2, 2, 2, 2, 2, 2, 2, 6, 3, 4, 2, 2, 3, 2, 2])\n",
            "torch.Size([64]) tensor([3, 2, 2, 4, 2, 2, 2, 2, 5, 2, 2, 2, 2, 5, 5, 2, 2, 5, 2, 5, 2, 2, 5, 2,\n",
            "        6, 2, 2, 2, 2, 2, 2, 5, 2, 2, 2, 2, 2, 2, 6, 2, 2, 2, 6, 5, 2, 5, 5, 2,\n",
            "        5, 2, 5, 5, 5, 2, 2, 2, 2, 2, 5, 2, 5, 2, 6, 2])\n",
            "torch.Size([64]) tensor([2, 2, 2, 2, 2, 6, 2, 2, 2, 2, 2, 2, 5, 6, 2, 2, 2, 5, 2, 4, 5, 2, 2, 0,\n",
            "        5, 2, 2, 2, 2, 2, 5, 2, 2, 2, 5, 2, 4, 2, 2, 5, 2, 2, 2, 2, 2, 2, 2, 5,\n",
            "        2, 2, 2, 5, 2, 5, 2, 2, 2, 6, 2, 2, 2, 2, 2, 2])\n",
            "torch.Size([64]) tensor([2, 2, 2, 2, 5, 2, 2, 5, 2, 2, 2, 2, 2, 2, 5, 2, 2, 2, 5, 5, 2, 2, 2, 2,\n",
            "        2, 2, 3, 2, 5, 5, 2, 5, 4, 5, 2, 2, 2, 2, 4, 2, 2, 2, 2, 8, 2, 2, 2, 2,\n",
            "        3, 3, 2, 2, 2, 2, 5, 2, 2, 2, 2, 2, 2, 5, 2, 2])\n",
            "torch.Size([64]) tensor([2, 6, 2, 2, 2, 2, 2, 5, 2, 2, 2, 5, 2, 2, 2, 2, 2, 2, 2, 2, 2, 2, 2, 2,\n",
            "        2, 2, 2, 2, 5, 2, 5, 5, 5, 2, 2, 2, 5, 2, 2, 2, 5, 4, 2, 2, 5, 5, 2, 2,\n",
            "        0, 2, 4, 2, 3, 2, 2, 5, 5, 2, 2, 2, 2, 2, 2, 2])\n",
            "torch.Size([64]) tensor([3, 5, 2, 2, 2, 2, 2, 5, 2, 2, 2, 2, 2, 2, 2, 2, 2, 2, 5, 2, 2, 2, 2, 2,\n",
            "        2, 5, 2, 5, 2, 5, 2, 2, 5, 2, 2, 2, 2, 2, 2, 5, 2, 2, 3, 2, 5, 2, 2, 5,\n",
            "        2, 2, 5, 5, 5, 5, 2, 2, 2, 6, 2, 5, 2, 2, 2, 2])\n",
            "torch.Size([64]) tensor([2, 2, 2, 5, 3, 2, 5, 2, 2, 5, 2, 2, 2, 2, 5, 5, 2, 0, 5, 2, 2, 2, 2, 2,\n",
            "        5, 5, 5, 2, 2, 2, 2, 2, 6, 2, 2, 2, 2, 2, 2, 2, 2, 2, 2, 2, 2, 2, 5, 2,\n",
            "        2, 2, 2, 2, 2, 5, 5, 5, 2, 5, 2, 0, 2, 0, 2, 2])\n",
            "torch.Size([64]) tensor([2, 2, 5, 2, 5, 2, 5, 2, 5, 2, 2, 2, 2, 5, 6, 2, 6, 2, 2, 2, 2, 2, 2, 2,\n",
            "        5, 5, 2, 2, 2, 2, 2, 5, 2, 2, 3, 2, 2, 2, 2, 2, 5, 2, 2, 2, 2, 2, 2, 2,\n",
            "        2, 5, 5, 3, 2, 2, 2, 2, 2, 2, 2, 2, 2, 2, 2, 5])\n",
            "torch.Size([64]) tensor([5, 2, 2, 5, 2, 2, 2, 5, 2, 2, 6, 2, 5, 5, 5, 2, 2, 2, 5, 5, 2, 2, 2, 2,\n",
            "        2, 2, 2, 2, 2, 6, 2, 2, 4, 2, 2, 3, 2, 3, 2, 2, 2, 2, 5, 2, 5, 2, 5, 2,\n",
            "        2, 5, 5, 2, 2, 2, 2, 2, 2, 2, 2, 6, 3, 5, 2, 2])\n",
            "torch.Size([64]) tensor([2, 2, 2, 3, 2, 2, 2, 2, 2, 2, 2, 2, 2, 5, 2, 2, 2, 5, 2, 2, 2, 2, 5, 2,\n",
            "        5, 2, 2, 5, 5, 2, 5, 5, 2, 9, 2, 5, 5, 2, 2, 2, 4, 2, 2, 2, 5, 5, 2, 2,\n",
            "        2, 2, 2, 5, 2, 2, 2, 2, 2, 2, 2, 2, 2, 2, 5, 2])\n",
            "torch.Size([64]) tensor([6, 2, 2, 2, 5, 2, 2, 2, 2, 2, 2, 2, 2, 2, 2, 2, 5, 5, 2, 4, 2, 2, 2, 4,\n",
            "        5, 2, 2, 2, 5, 2, 5, 2, 2, 7, 2, 5, 2, 2, 2, 4, 2, 2, 5, 4, 2, 4, 2, 2,\n",
            "        3, 2, 2, 2, 2, 5, 2, 3, 5, 2, 2, 4, 2, 2, 2, 2])\n",
            "torch.Size([64]) tensor([2, 2, 2, 2, 2, 2, 2, 2, 2, 5, 5, 2, 2, 2, 2, 2, 0, 2, 3, 5, 2, 2, 5, 5,\n",
            "        2, 2, 2, 2, 2, 2, 3, 5, 2, 2, 4, 2, 2, 2, 3, 2, 2, 2, 4, 2, 2, 2, 2, 2,\n",
            "        2, 5, 5, 2, 2, 6, 2, 2, 2, 5, 2, 2, 2, 2, 2, 2])\n",
            "torch.Size([64]) tensor([2, 2, 2, 2, 2, 5, 2, 2, 2, 5, 2, 2, 5, 5, 2, 2, 5, 2, 2, 2, 5, 5, 2, 2,\n",
            "        5, 5, 2, 0, 5, 5, 2, 5, 2, 2, 2, 2, 5, 2, 5, 2, 5, 2, 2, 2, 2, 5, 2, 2,\n",
            "        5, 2, 2, 5, 4, 2, 2, 2, 2, 5, 2, 2, 2, 5, 2, 2])\n",
            "torch.Size([12]) tensor([2, 2, 2, 2, 5, 2, 2, 2, 5, 2, 4, 2])\n",
            ", Validation Loss: 5.8867, Validation Accuracy: 0.73%\n"
          ]
        }
      ]
    },
    {
      "cell_type": "code",
      "source": [],
      "metadata": {
        "id": "pp1SykC1O3pA"
      },
      "execution_count": null,
      "outputs": []
    }
  ]
}